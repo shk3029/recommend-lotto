{
 "cells": [
  {
   "cell_type": "markdown",
   "id": "14b9bd10",
   "metadata": {},
   "source": [
    "# 로또 추천"
   ]
  },
  {
   "cell_type": "markdown",
   "id": "c6355a29",
   "metadata": {},
   "source": [
    "## Insert Mongo All Round"
   ]
  },
  {
   "cell_type": "code",
   "execution_count": 1,
   "id": "974b9d46",
   "metadata": {},
   "outputs": [],
   "source": [
    "def counter(lotto_dict, number):\n",
    "    if number in lotto_dict:\n",
    "        lotto_dict[number] += 1\n",
    "    else:\n",
    "        lotto_dict[number] = 1"
   ]
  },
  {
   "cell_type": "code",
   "execution_count": 2,
   "id": "aaaea1bd",
   "metadata": {},
   "outputs": [],
   "source": [
    "import requests\n",
    "from pymongo import MongoClient\n",
    "\n",
    "client = MongoClient(\"mongodb://localhost:27017/\")\n",
    "db = client['lotto']\n",
    "\n",
    "base_url = 'https://www.dhlottery.co.kr/common.do?method=getLottoNumber&drwNo='\n",
    "lotto_dict = {}\n",
    "\n",
    "for i in range(1044,1050):\n",
    "    url = base_url+str(i)\n",
    "    req_result = requests.get(url)\n",
    "    json_result = req_result.json()\n",
    "    val_return_success = json_result.get('returnValue', None)\n",
    "    val_drw_dt = json_result.get('drwNoDate', None)\n",
    "    val_no_1 = json_result.get('drwtNo1', None)\n",
    "    val_no_2 = json_result.get('drwtNo2', None)\n",
    "    val_no_3 = json_result.get('drwtNo3', None)\n",
    "    val_no_4 = json_result.get('drwtNo4', None)\n",
    "    val_no_5 = json_result.get('drwtNo5', None)\n",
    "    val_no_6 = json_result.get('drwtNo6', None)\n",
    "    val_bonus_no = json_result.get('bnusNo', None)\n",
    "    \n",
    "    if val_no_1 is None:\n",
    "        break\n",
    "    \n",
    "    data = {\n",
    "        'round' : i,\n",
    "        'no_1' : val_no_1,\n",
    "        'no_2' : val_no_2,\n",
    "        'no_3' : val_no_3,\n",
    "        'no_4' : val_no_4,\n",
    "        'no_5' : val_no_5,\n",
    "        'no_6' : val_no_6,\n",
    "        'no_bonus' : val_bonus_no\n",
    "    }\n",
    "    db.lotto.insert_one(data)"
   ]
  },
  {
   "cell_type": "code",
   "execution_count": null,
   "id": "41b25a1c",
   "metadata": {},
   "outputs": [],
   "source": []
  },
  {
   "cell_type": "markdown",
   "id": "48d8fc39",
   "metadata": {},
   "source": [
    "## 각 자리수 카운팅"
   ]
  },
  {
   "cell_type": "code",
   "execution_count": 3,
   "id": "c6f490d6",
   "metadata": {},
   "outputs": [],
   "source": [
    "def list_count(lists): \n",
    "    count={}\n",
    "\n",
    "    for i in lists:\n",
    "        try: count[i] += 1\n",
    "        except: count[i]=1\n",
    "    return sorted(count.items(), key = lambda item: item[1], reverse = True)"
   ]
  },
  {
   "cell_type": "code",
   "execution_count": 4,
   "id": "3ad0a7a9",
   "metadata": {},
   "outputs": [],
   "source": [
    "lotto_list = []\n",
    "all_lotto = db.lotto.find()\n",
    "no_1s = []\n",
    "no_2s = []\n",
    "no_3s = []\n",
    "no_4s = []\n",
    "no_5s = []\n",
    "no_6s = []\n",
    "for i in all_lotto:\n",
    "    lotto_list.append((i['round'],[i['no_1'],i['no_2'],i['no_3'],i['no_4'],i['no_5'],i['no_6']]))\n",
    "    #print(i['round'],'회차:',i['no_1'],i['no_2'],i['no_3'],i['no_4'],i['no_5'],i['no_6'],i['no_bonus'])\n",
    "    no_1s.append(i['no_1'])\n",
    "    no_2s.append(i['no_2'])\n",
    "    no_3s.append(i['no_3'])\n",
    "    no_4s.append(i['no_4'])\n",
    "    no_5s.append(i['no_5'])\n",
    "    no_6s.append(i['no_6'])\n",
    "no_1_result = list_count(no_1s)\n",
    "no_2_result = list_count(no_2s)\n",
    "no_3_result = list_count(no_2s)\n",
    "no_4_result = list_count(no_4s)\n",
    "no_5_result = list_count(no_4s)\n",
    "no_6_result = list_count(no_4s)"
   ]
  },
  {
   "cell_type": "code",
   "execution_count": 81,
   "id": "a4583d2f",
   "metadata": {},
   "outputs": [
    {
     "data": {
      "text/plain": [
       "33"
      ]
     },
     "execution_count": 81,
     "metadata": {},
     "output_type": "execute_result"
    }
   ],
   "source": [
    "random.choice(no_6_result[:25])[0]"
   ]
  },
  {
   "cell_type": "markdown",
   "id": "6ae3552b",
   "metadata": {},
   "source": [
    "## Random lotto "
   ]
  },
  {
   "cell_type": "code",
   "execution_count": 104,
   "id": "dd031aa8",
   "metadata": {},
   "outputs": [
    {
     "name": "stdout",
     "output_type": "stream",
     "text": [
      "[7131, 50024, 709491, 8152865, 38196771]\n",
      "7131 [4, 6, 13, 25, 33, 35]\n",
      "50024 [3, 13, 19, 27, 30, 33]\n",
      "709491 [2, 4, 8, 18, 26, 35]\n",
      "8152865 [4, 17, 18, 32, 33, 34]\n",
      "38196771 [4, 5, 8, 17, 22, 32]\n"
     ]
    }
   ],
   "source": [
    "#lotto_list\n",
    "import random\n",
    "\n",
    "n = 0\n",
    "result = []\n",
    "\n",
    "randNum1 = random.randint(1000,10000)\n",
    "randNum2 = random.randint(10000,100000)\n",
    "randNum3 = random.randint(100000,1000000)\n",
    "randNum4 = random.randint(1000000,10000000)\n",
    "randNum5 = random.randint(10000000,50000000)\n",
    "randNum_lst = [randNum1, randNum2, randNum3, randNum4, randNum5]\n",
    "\n",
    "print(randNum_lst)\n",
    "while len(randNum_lst) != 0:\n",
    "    while True:\n",
    "        result = []\n",
    "        no1 = random.choice(no_1_result[:17])[0]\n",
    "        no2 = random.choice(no_1_result[:20])[0]\n",
    "        no3 = random.choice(no_3_result[:20])[0]\n",
    "        no4 = random.choice(no_4_result[:20])[0]\n",
    "        no5 = random.choice(no_5_result[:20])[0]\n",
    "        no6 = random.choice(no_6_result[:20])[0]\n",
    "        result.append(no1)\n",
    "        result.append(no2)\n",
    "        result.append(no3)\n",
    "        result.append(no4)\n",
    "        result.append(no5)\n",
    "        result.append(no6)\n",
    "        result = (sorted(result))\n",
    "        if len(set(result)) == 6:\n",
    "            break\n",
    "\n",
    "    n+=1\n",
    "    if n in randNum_lst :\n",
    "        print(n,result)\n",
    "        randNum_lst.remove(n)\n",
    "        \n",
    "\n",
    "        "
   ]
  },
  {
   "cell_type": "code",
   "execution_count": null,
   "id": "0e7ad6bc",
   "metadata": {},
   "outputs": [],
   "source": []
  }
 ],
 "metadata": {
  "kernelspec": {
   "display_name": "Python 3",
   "language": "python",
   "name": "python3"
  },
  "language_info": {
   "codemirror_mode": {
    "name": "ipython",
    "version": 3
   },
   "file_extension": ".py",
   "mimetype": "text/x-python",
   "name": "python",
   "nbconvert_exporter": "python",
   "pygments_lexer": "ipython3",
   "version": "3.8.8"
  }
 },
 "nbformat": 4,
 "nbformat_minor": 5
}
